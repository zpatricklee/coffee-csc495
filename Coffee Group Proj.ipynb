{
 "cells": [
  {
   "cell_type": "code",
   "execution_count": 8,
   "metadata": {
    "scrolled": false
   },
   "outputs": [
    {
     "name": "stdout",
     "output_type": "stream",
     "text": [
      "\n",
      "All unique origins:\n",
      "['Ethiopia' 'Guatemala' 'Brazil' 'Peru' 'United States'\n",
      " 'United States (Hawaii)' 'Indonesia' 'China' 'Costa Rica' 'Mexico'\n",
      " 'Uganda' 'Honduras' 'Taiwan' 'Nicaragua' 'Tanzania, United Republic Of'\n",
      " 'Kenya' 'Thailand' 'Colombia' 'Panama' 'Papua New Guinea' 'El Salvador'\n",
      " 'Japan' 'Ecuador' 'United States (Puerto Rico)' 'Haiti' 'Burundi'\n",
      " 'Vietnam' 'Philippines' 'Rwanda' 'Malawi' 'Laos' 'Zambia' 'Myanmar'\n",
      " 'Mauritius' 'Cote d?Ivoire' nan 'India']\n",
      "['Unnamed: 0', 'Species', 'Owner', 'Country_of_Origin', 'Farm_Name', 'Lot_Number', 'Mill', 'ICO_Number', 'Company', 'Altitude', 'Region', 'Producer', 'Number_of_Bags', 'Bag_Weight', 'In_Country_Partner', 'Harvest_Year', 'Grading_Date', 'Owner_1', 'Variety', 'Processing_Method', 'Aroma', 'Flavor', 'Aftertaste', 'Acidity', 'Body', 'Balance', 'Uniformity', 'Clean_Cup', 'Sweetness', 'Cupper_Points', 'Total_Cup_Points', 'Moisture', 'Category_One_Defects', 'Quakers', 'Color', 'Category_Two_Defects', 'Expiration', 'Certification_Body', 'Certification_Address', 'Certification_Contact', 'unit_of_measurement', 'altitude_low_meters', 'altitude_high_meters', 'altitude_mean_meters']\n",
      "\n",
      "df.shape:\n",
      "(1311, 44)\n",
      "\n",
      "['Country_of_Origin', 'Processing_Method', 'Aroma', 'Flavor', 'Aftertaste', 'Acidity', 'Body', 'Balance', 'Uniformity', 'Clean_Cup', 'Sweetness', 'Cupper_Points', 'Total_Cup_Points', 'Moisture']\n",
      "\n",
      "\n",
      "Ethiopian coffee mean Total Cupping Points:  85.48409090909091\n",
      "Guatemalan coffee mean Total Cupping Points:  81.84657458563535\n",
      "Brazilian coffee mean Total Cupping Points:  82.40590909090909\n",
      "Peruvian coffee mean Total Cupping Points:  82.526\n",
      "Costa Rican coffee mean Total Cupping Points:  82.78901960784313\n",
      "Mexican coffee mean Total Cupping Points:  80.89008474576272\n",
      "Ugandan coffee mean Total Cupping Points:  84.05192307692307\n",
      "Honduran coffee mean Total Cupping Points:  79.35754716981131\n",
      "Nicaraguan coffee mean Total Cupping Points:  80.45807692307692\n",
      "Kenyan coffee mean Total Cupping Points:  84.3096\n",
      "Colombian coffee mean Total Cupping Points:  83.10655737704919\n",
      "Panamanian coffee mean Total Cupping Points:  83.7075\n",
      "Papua New Guinean coffee mean Total Cupping Points:  85.75\n",
      "El Salvadorian coffee mean Total Cupping Points:  83.05285714285715\n",
      "Ecuadorian coffee mean Total Cupping Points:  83.83\n",
      "Burundian coffee mean Total Cupping Points:  81.83\n",
      "Vietnamese coffee mean Total Cupping Points:  82.27428571428571\n",
      "Rwandan coffee mean Total Cupping Points:  82.83\n",
      "Laotian coffee mean Total Cupping Points:  81.83333333333333\n",
      "Indian coffee mean Total Cupping Points:  76.83\n",
      "\n"
     ]
    }
   ],
   "source": [
    "import pandas as pd\n",
    "import seaborn as sns\n",
    "import matplotlib.pyplot as plt\n",
    "url=(\"https://raw.githubusercontent.com/jldbc/coffee-quality-database\"\n",
    "        \"/master/data/arabica_data_cleaned.csv\")\n",
    "df = pd.read_csv(url, sep=',')\n",
    "\n",
    "#standardize all columns names \n",
    "df.columns = df.columns.str.replace('.', '_')\n",
    "\n",
    "#df.info()\n",
    "\n",
    "#df.head(5)\n",
    "\n",
    "#df.isnull().sum()\n",
    "print()\n",
    "print(\"All unique origins:\")\n",
    "print(df['Country_of_Origin'].unique())\n",
    "\n",
    "# created a datafram of just Ethiopian coffees\n",
    "df_ethiopia = df[df.Country_of_Origin.eq('Ethiopia')]\n",
    "df_guatemala = df[df.Country_of_Origin.eq('Guatemala')]\n",
    "df_brazil = df[df.Country_of_Origin.eq('Brazil')]\n",
    "df_peru = df[df.Country_of_Origin.eq('Peru')]\n",
    "df_costa_rica= df[df.Country_of_Origin.eq('Costa Rica')]\n",
    "df_mexico= df[df.Country_of_Origin.eq('Mexico')]\n",
    "df_uganda= df[df.Country_of_Origin.eq('Uganda')]\n",
    "df_honduras= df[df.Country_of_Origin.eq('Honduras')]\n",
    "df_nicaragua= df[df.Country_of_Origin.eq('Nicaragua')]\n",
    "df_kenya= df[df.Country_of_Origin.eq('Kenya')]\n",
    "df_colombia= df[df.Country_of_Origin.eq('Colombia')]\n",
    "df_panama= df[df.Country_of_Origin.eq('Panama')]\n",
    "df_png= df[df.Country_of_Origin.eq('Papua New Guinea')]\n",
    "df_el_salvador= df[df.Country_of_Origin.eq('El Salvador')]\n",
    "df_ecuador= df[df.Country_of_Origin.eq('Ecuador')]\n",
    "df_burundi= df[df.Country_of_Origin.eq('Burundi')]\n",
    "df_vietnam= df[df.Country_of_Origin.eq('Vietnam')]\n",
    "df_rwanda= df[df.Country_of_Origin.eq('Rwanda')]\n",
    "df_laos= df[df.Country_of_Origin.eq('Laos')]\n",
    "df_india= df[df.Country_of_Origin.eq('India')]\n",
    "\n",
    "cols = df.columns.tolist()\n",
    "print(cols)\n",
    "print()\n",
    "\n",
    "print(\"df.shape:\")\n",
    "print(df.shape)\n",
    "print()\n",
    "\n",
    "df_quality_measures = df.drop(['Unnamed: 0',\n",
    "                                                    'Species',\n",
    "                                                    'Owner',\n",
    "                                                    'Farm_Name',\n",
    "                                                    'Lot_Number',\n",
    "                                                    'Mill', \n",
    "                                                    'ICO_Number', \n",
    "                                                    'Company', \n",
    "                                                    'Altitude',\n",
    "                                                    'Region', \n",
    "                                                    'Producer', \n",
    "                                                    'Number_of_Bags',\n",
    "                                                    'Bag_Weight', \n",
    "                                                    'In_Country_Partner',\n",
    "                                                    'Harvest_Year',\n",
    "                                                    'Grading_Date',\n",
    "                                                    'Owner_1',\n",
    "                                                    'Variety',\n",
    "                                                     'Category_One_Defects',\n",
    "                                                    'Quakers',\n",
    "                                                    'Color',\n",
    "                                                    'Category_Two_Defects',\n",
    "                                                    'Expiration',\n",
    "                                                    'Certification_Body',\n",
    "                                                    'Certification_Address',\n",
    "                                                    'Certification_Contact',\n",
    "                                                    'unit_of_measurement',\n",
    "                                                    'altitude_low_meters', \n",
    "                                                    'altitude_high_meters', \n",
    "                                                    'altitude_mean_meters'],\n",
    "                                                     axis=1)\n",
    "\n",
    "cols2 = df_quality_measures.columns.tolist()\n",
    "print(cols2)\n",
    "print()\n",
    "\n",
    "df_ethiopia_washed = df[df.Processing_Method.eq('Natural / Dry')]\n",
    "df_ethiopia_natural = df[df.Processing_Method.eq('Washed / Wet')]\n",
    "print()\n",
    "print(\"Ethiopian coffee mean Total Cupping Points: \", df_ethiopia[\"Total_Cup_Points\"].mean())\n",
    "print(\"Guatemalan coffee mean Total Cupping Points: \", df_guatemala[\"Total_Cup_Points\"].mean())\n",
    "print(\"Brazilian coffee mean Total Cupping Points: \", df_brazil[\"Total_Cup_Points\"].mean())\n",
    "print(\"Peruvian coffee mean Total Cupping Points: \", df_peru[\"Total_Cup_Points\"].mean())\n",
    "print(\"Costa Rican coffee mean Total Cupping Points: \", df_costa_rica[\"Total_Cup_Points\"].mean())\n",
    "print(\"Mexican coffee mean Total Cupping Points: \", df_mexico[\"Total_Cup_Points\"].mean())\n",
    "print(\"Ugandan coffee mean Total Cupping Points: \", df_uganda[\"Total_Cup_Points\"].mean())\n",
    "print(\"Honduran coffee mean Total Cupping Points: \", df_honduras[\"Total_Cup_Points\"].mean())\n",
    "print(\"Nicaraguan coffee mean Total Cupping Points: \", df_nicaragua[\"Total_Cup_Points\"].mean())\n",
    "print(\"Kenyan coffee mean Total Cupping Points: \", df_kenya[\"Total_Cup_Points\"].mean())\n",
    "print(\"Colombian coffee mean Total Cupping Points: \", df_colombia[\"Total_Cup_Points\"].mean())\n",
    "print(\"Panamanian coffee mean Total Cupping Points: \", df_panama[\"Total_Cup_Points\"].mean())\n",
    "print(\"Papua New Guinean coffee mean Total Cupping Points: \", df_png[\"Total_Cup_Points\"].mean())\n",
    "print(\"El Salvadorian coffee mean Total Cupping Points: \", df_el_salvador[\"Total_Cup_Points\"].mean())\n",
    "print(\"Ecuadorian coffee mean Total Cupping Points: \", df_ecuador[\"Total_Cup_Points\"].mean())\n",
    "print(\"Burundian coffee mean Total Cupping Points: \", df_burundi[\"Total_Cup_Points\"].mean())\n",
    "print(\"Vietnamese coffee mean Total Cupping Points: \", df_vietnam[\"Total_Cup_Points\"].mean())\n",
    "print(\"Rwandan coffee mean Total Cupping Points: \", df_rwanda[\"Total_Cup_Points\"].mean())\n",
    "print(\"Laotian coffee mean Total Cupping Points: \", df_laos[\"Total_Cup_Points\"].mean())\n",
    "print(\"Indian coffee mean Total Cupping Points: \", df_india[\"Total_Cup_Points\"].mean())\n",
    "print()"
   ]
  },
  {
   "cell_type": "code",
   "execution_count": 3,
   "metadata": {},
   "outputs": [
    {
     "data": {
      "text/plain": [
       "(251, 44)"
      ]
     },
     "execution_count": 3,
     "metadata": {},
     "output_type": "execute_result"
    }
   ],
   "source": [
    "ndf = df.dropna()\n",
    "ndf.isnull().any()\n",
    "df_ethiopia_washed2 = df[df.Processing_Method.eq('Natural / Dry')]\n",
    "\n",
    "df_ethiopia_washed2.isnull().any()\n",
    "df_ethiopia_washed2.head(10)\n",
    "df_ethiopia_washed2.shape"
   ]
  },
  {
   "cell_type": "code",
   "execution_count": null,
   "metadata": {},
   "outputs": [],
   "source": [
    "df.head(5)"
   ]
  },
  {
   "cell_type": "code",
   "execution_count": null,
   "metadata": {},
   "outputs": [],
   "source": [
    "df_ethiopia_washed.describe()"
   ]
  },
  {
   "cell_type": "code",
   "execution_count": null,
   "metadata": {},
   "outputs": [],
   "source": [
    "df_ethiopia_natural.describe()"
   ]
  },
  {
   "cell_type": "code",
   "execution_count": null,
   "metadata": {},
   "outputs": [],
   "source": [
    "df_ethiopia_washed_corr = df_ethiopia_washed.corr()\n",
    "df_ethiopia_natural_corr = df_ethiopia_natural.corr()\n",
    "\n",
    "df_ethiopia_washed_corr"
   ]
  },
  {
   "cell_type": "code",
   "execution_count": null,
   "metadata": {},
   "outputs": [],
   "source": [
    "df_ethiopia_natural_corr"
   ]
  },
  {
   "cell_type": "code",
   "execution_count": null,
   "metadata": {
    "scrolled": false
   },
   "outputs": [],
   "source": [
    "diff_of_corr = df_ethiopia_natural_corr - df_ethiopia_washed_corr\n",
    "plt.subplots(figsize=(20,15), dpi = 500)\n",
    "axis = plt.axes()\n",
    "axis.set_title(\"Washed vs Natural Ethiopian coffee correlation differences\")\n",
    "sns.heatmap(diff_of_corr,\n",
    "                      cmap= \"YlGnBu\",\n",
    "                      square = False,\n",
    "                      xticklabels = diff_of_corr.columns.values,\n",
    "                      yticklabels = diff_of_corr.columns.values)\n",
    "plt.show()"
   ]
  },
  {
   "cell_type": "code",
   "execution_count": null,
   "metadata": {},
   "outputs": [],
   "source": []
  }
 ],
 "metadata": {
  "kernelspec": {
   "display_name": "Python 3",
   "language": "python",
   "name": "python3"
  },
  "language_info": {
   "codemirror_mode": {
    "name": "ipython",
    "version": 3
   },
   "file_extension": ".py",
   "mimetype": "text/x-python",
   "name": "python",
   "nbconvert_exporter": "python",
   "pygments_lexer": "ipython3",
   "version": "3.8.2"
  }
 },
 "nbformat": 4,
 "nbformat_minor": 4
}
